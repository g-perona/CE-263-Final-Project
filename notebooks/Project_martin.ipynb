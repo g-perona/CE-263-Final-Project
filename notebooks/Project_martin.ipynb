{
 "cells": [
  {
   "cell_type": "code",
   "execution_count": 2,
   "metadata": {},
   "outputs": [
    {
     "data": {
      "text/plain": [
       "'1.2.2'"
      ]
     },
     "execution_count": 2,
     "metadata": {},
     "output_type": "execute_result"
    }
   ],
   "source": [
    "import geopandas as gpd\n",
    "import osmnx as ox\n",
    "import pandas as pd\n",
    "import numpy as np\n",
    "import networkx as nx\n",
    "import osmnx as ox\n",
    "import geopy as gpy\n",
    "from IPython.display import Image\n",
    "from geopy.geocoders import Nominatim\n",
    "import regex as re\n",
    "from shapely import wkt\n",
    "import matplotlib.pyplot as plt\n",
    "from pyproj import Proj, transform\n",
    "import seaborn as sns\n",
    "%matplotlib inline\n",
    "ox.__version__"
   ]
  },
  {
   "attachments": {},
   "cell_type": "markdown",
   "metadata": {},
   "source": [
    "## Setting up parameters for calculating POI data"
   ]
  },
  {
   "cell_type": "code",
   "execution_count": 3,
   "metadata": {},
   "outputs": [],
   "source": [
    "bad_amenities = ['driving_school', 'car_rental', 'car_wash', \\\n",
    "    'vehicle_inspection', 'fuel', 'grit_bin', \\\n",
    "    'motorcycle_parking', 'parking', 'parking_entrance', \\\n",
    "    'parking_space', 'taxi']\n",
    "\n",
    "\n",
    "tab_buildings = pd.read_html('https://wiki.openstreetmap.org/wiki/Key:building', match='Value')\n",
    "tab_amenities = pd.read_html('https://wiki.openstreetmap.org/wiki/Key:amenity', match='Value')\n",
    "\n",
    "building_types = tab_buildings[0]\n",
    "amenity_types = tab_amenities[0]\n",
    "\n",
    "building_types.columns = building_types.columns.droplevel(1)\n",
    "amenity_types.columns = amenity_types.columns.droplevel(1)\n",
    "amenity_types = amenity_types[(amenity_types['Key'] == 'amenity') & (~amenity_types['Value'].isin(bad_amenities))]\n",
    "desired_amenities = list(amenity_types['Value'])\n",
    "\n",
    "\n",
    "\n",
    "categories_df = building_types[building_types['Key'] != 'building']\n",
    "categories = ['Accomodation']\n",
    "categories.extend(categories_df['Key'])\n",
    "categories_ind = categories_df.index\n",
    "categories_ind, categories\n",
    "desired_slices = [np.arange(18,25), np.arange(26, 37), np.arange(38, 53), np.arange(69, 72)]\n",
    "desired_inds = np.concatenate(desired_slices)\n",
    "desired_types = list(building_types.loc[desired_inds]['Value'])"
   ]
  },
  {
   "attachments": {},
   "cell_type": "markdown",
   "metadata": {},
   "source": [
    "# Example of bike lane vs cycleway only lane"
   ]
  },
  {
   "cell_type": "code",
   "execution_count": null,
   "metadata": {},
   "outputs": [],
   "source": [
    "\n",
    "\n",
    "import osmnx as ox\n",
    "useful_tags = ox.settings.useful_tags_way + ['cycleway']\n",
    "ox.config(use_cache=True, log_console=True, useful_tags_way=useful_tags)\n",
    "coords = (36.904385\t,-121.770475)\n",
    "G = ox.graph_from_point(coords, dist=2000, network_type=\"bike\", simplify=False)\n",
    "non_cycleways = [(u, v, k) for u, v, k, d in G.edges(keys=True, data=True) if not ('cycleway' in d or d['highway']=='cycleway')]\n",
    "G_trunc = G\n",
    "G_trunc.remove_edges_from(non_cycleways)\n",
    "G_trunc = ox.utils_graph.remove_isolated_nodes(G_trunc)\n",
    "G_trunc = ox.simplify_graph(G_trunc)\n",
    "# G_comb = nx.compose(G, G_trunc)\n",
    "# G = ox.utils_graph.remove_isolated_nodes(G)\n",
    "# G = ox.simplify_graph(G)\n",
    "\n",
    "fig, ax = ox.plot_graph(G, node_size=5)\n",
    "fig, ax = ox.plot_graph(G_trunc, node_color='r')\n"
   ]
  },
  {
   "attachments": {},
   "cell_type": "markdown",
   "metadata": {},
   "source": [
    "## Getting stats of BIke friendly and non bike friendly cities\n",
    "\n",
    "We select cities from articles and their research regarding what they define to be bike friendly or not bike friendly"
   ]
  },
  {
   "cell_type": "code",
   "execution_count": 68,
   "metadata": {},
   "outputs": [],
   "source": [
    "bike_friendly_cities = {'Portland, Oregon': (45.523064, -122.676483),\n",
    "                    'SF, CA': (37.7749, -122.4194),\n",
    "                    'MN, MN': (44.9778, -93.2650),\n",
    "                    'SJ, CA': (37.3387, -121.8853),\n",
    "                    'Davis, CA': (38.5449, -121.7405),\n",
    "                    'Denver, CO': (39.7392, -104.9903),\n",
    "                    'DC': (38.9072, -77.0369),\n",
    "                    'SLC': (40.7608, -111.8910),\n",
    "                    'Seattle, WA': (47.6062, -122.3321),\n",
    "                    'Arlington, VA' : (38.8800, -77.1068)\n",
    "                    }\n",
    "\n",
    "non_bike_friendly_cities = {'Dallas, TX': (32.7767, -96.7970),\n",
    "                    'Birmingham, AL': (33.5186, -86.8104),\n",
    "                    'Atlanta, GA': (33.7488, -84.3877),\n",
    "                    'Nashville, TN': (36.1627, -86.7816),\n",
    "                    'Riverside, CA': (33.9806, -117.3755),\n",
    "                    'Memphis, TN': (35.1495, -90.0490),\n",
    "                    'OK, OK': (35.4676, -97.5164),\n",
    "                    'LV, NV': (36.1716, -115.1391),\n",
    "                    'Detroit, MI': (42.3314, -83.0458)\n",
    "                    }\n",
    "\n"
   ]
  },
  {
   "attachments": {},
   "cell_type": "markdown",
   "metadata": {},
   "source": [
    "### Getting POI data for bike friendly and non bike friendly cities"
   ]
  },
  {
   "cell_type": "code",
   "execution_count": null,
   "metadata": {},
   "outputs": [],
   "source": [
    "sum_amens = 0\n",
    "for city in bike_friendly_cities:\n",
    "    coords = (bike_friendly_cities[city])\n",
    "    tags = {'building': desired_types, 'amenity': desired_amenities}\n",
    "    #tags = {'amenity': 'restaurant'}\n",
    "    G = ox.geometries_from_point(coords, tags, dist=2000)\n",
    "\n",
    "    num_amens = G[G['amenity'].notnull()].shape[0]\n",
    "    sum_amens += num_amens\n",
    "    print(f'The number of amenities for city {city} is {num_amens}')\n",
    "\n",
    "sum_amens\n"
   ]
  },
  {
   "cell_type": "code",
   "execution_count": null,
   "metadata": {},
   "outputs": [],
   "source": [
    "non_sum_amens = 0\n",
    "\n",
    "for city in non_bike_friendly_cities:\n",
    "    coords = (non_bike_friendly_cities[city])\n",
    "    tags = {'building': desired_types, 'amenity': desired_amenities}\n",
    "    #tags = {'amenity': 'restaurant'}\n",
    "    G = ox.geometries_from_point(coords, tags, dist=2000)\n",
    "\n",
    "    num_amens = G[G['amenity'].notnull()].shape[0]\n",
    "    sum_amens += num_amens\n",
    "    print(f'The number of amenities for city {city} is {num_amens}')\n",
    "\n",
    "non_sum_amens"
   ]
  },
  {
   "attachments": {},
   "cell_type": "markdown",
   "metadata": {},
   "source": [
    "### Grab basic network statistics of these cities \n",
    "\n",
    "We only consider cylceway statistics from this point on"
   ]
  },
  {
   "cell_type": "code",
   "execution_count": null,
   "metadata": {},
   "outputs": [],
   "source": [
    "def tract_stats(dict_tract):\n",
    "    df_bike_ratio = pd.DataFrame()\n",
    "    df_bike_raw = pd.DataFrame()\n",
    "    max_bcl = []\n",
    "    for city in dict_tract:\n",
    "        coords = (dict_tract[city])\n",
    "        useful_tags = ox.settings.useful_tags_way + ['cycleway']\n",
    "        ox.config(use_cache=True, log_console=True, useful_tags_way=useful_tags)\n",
    "\n",
    "        # generate graph\n",
    "        G = ox.graph_from_point(coords, dist=2000, network_type='bike', simplify=False)\n",
    "        nodes, edges = ox.graph_to_gdfs(G)\n",
    "\n",
    "        # generate graph stats\n",
    "        stats = ox.utils_graph.graph_from_gdfs(nodes, edges)\n",
    "        stats = ox.basic_stats(stats)\n",
    "\n",
    "        # delete the no longer needed dict elements\n",
    "        del stats[\"streets_per_node_counts\"]\n",
    "        del stats[\"streets_per_node_proportions\"]\n",
    "        del stats[\"self_loop_proportion\"]\n",
    "        del stats[\"circuity_avg\"]\n",
    "        \n",
    "        \n",
    "        # # fig, ax = ox.plot_graph(G, node_size=5)\n",
    "        # df_og = pd.DataFrame(pd.Series(stats, name=\"value\")).round(3)\n",
    "\n",
    "        # generate cycleway graph\n",
    "        non_cycleways = [(u, v, k) for u, v, k, d in G.edges(keys=True, data=True) if not ('cycleway' in d or d['highway']=='cycleway')]\n",
    "        G.remove_edges_from(non_cycleways)\n",
    "        G = ox.utils_graph.remove_isolated_nodes(G)\n",
    "        G = ox.simplify_graph(G)\n",
    "        nodes, edges = ox.graph_to_gdfs(G)\n",
    "        # fig, ax = ox.plot_graph(G)\n",
    "\n",
    "        # generate cycleway graph stats\n",
    "        stats = ox.utils_graph.graph_from_gdfs(nodes, edges)\n",
    "        stats = ox.basic_stats(stats)\n",
    "\n",
    "        del stats[\"streets_per_node_counts\"]\n",
    "        del stats[\"streets_per_node_proportions\"]\n",
    "        del stats[\"self_loop_proportion\"]\n",
    "        del stats[\"circuity_avg\"]\n",
    "\n",
    "        bike_raw = pd.DataFrame(pd.Series(stats, name=\"value\")).round(3)\n",
    "\n",
    "        # load as a pandas dataframe\n",
    "        # df_bike = pd.DataFrame(pd.Series(stats, name=\"value\")).round(3)\n",
    "\n",
    "        # df_bike_ratio[city] = df_bike.value/df_og.value\n",
    "\n",
    "        bc = nx.betweenness_centrality(ox.get_digraph(G), weight=\"length\")\n",
    "        max_node, max_bc = max(bc.items(), key=lambda x: x[1])\n",
    "        max_bcl.append(max_bc)\n",
    "\n",
    "        df_bike_raw[city] = bike_raw\n",
    "        \n",
    "    # return df_bike_ratio,df_bike_raw\n",
    "    return df_bike_raw,max_bcl\n",
    "\n",
    "# bcl refers to betweenness\n",
    "bike_raw_stats, max_bcl = tract_stats(bike_friendly_cities)\n",
    "no_bike_raw_stats, no_max_bcl = tract_stats(non_bike_friendly_cities)\n",
    "\n",
    "\n",
    "\n"
   ]
  },
  {
   "cell_type": "code",
   "execution_count": null,
   "metadata": {},
   "outputs": [],
   "source": [
    "###"
   ]
  },
  {
   "attachments": {},
   "cell_type": "markdown",
   "metadata": {},
   "source": [
    "### save this file if you haven't and read it if you have!"
   ]
  },
  {
   "cell_type": "code",
   "execution_count": 22,
   "metadata": {},
   "outputs": [],
   "source": [
    "# save if you havent already!\n",
    "# path = r'C:\\Users\\psle1\\263 project github\\CE-263-Final-Project\\notebooks\\no_bike_raw_stats.csv'\n",
    "# no_bike_raw_stats.to_csv(path)\n",
    "\n",
    "# path = r'C:\\Users\\psle1\\263 project github\\CE-263-Final-Project\\notebooks\\bike_raw_stats.csv'\n",
    "# bike_raw_stats.to_csv(path)\n",
    "\n",
    "# Reading the files\n",
    "\n",
    "# non_bike_friendly_city_stats = pd.read_csv('non_bike_friendly_city_stats.csv', index_col = [0])\n",
    "\n",
    "# bike_friendly_city_stats = pd.read_csv('bike_friendly_city_stats.csv', index_col = [0])\n"
   ]
  },
  {
   "attachments": {},
   "cell_type": "markdown",
   "metadata": {},
   "source": [
    "## Data Analysis\n",
    "\n",
    "### First clean up some column names and add the following statistics\n",
    "Beta Index <br>\n",
    "Gamma Index"
   ]
  },
  {
   "cell_type": "code",
   "execution_count": null,
   "metadata": {},
   "outputs": [],
   "source": [
    "bike_raw_stats = bike_raw_stats.transpose().rename(columns = {\"n\":\"node\",\"m\":\"edges\"})\n",
    "\n",
    "bike_raw_stats['beta'] = bike_raw_stats['edges']/bike_raw_stats['node']\n",
    "bike_raw_stats['gamma'] = bike_raw_stats['edges']/(3*(bike_raw_stats['node']-2))\n",
    "bike_raw_stats.describe()"
   ]
  },
  {
   "cell_type": "code",
   "execution_count": null,
   "metadata": {},
   "outputs": [],
   "source": [
    "no_bike_raw_stats_T = no_bike_raw_stats.transpose().rename(columns = {\"n\":\"node\",\"m\":\"edges\"})\n",
    "\n",
    "no_bike_raw_stats_T['beta'] = no_bike_raw_stats_T['edges']/no_bike_raw_stats_T['node']\n",
    "no_bike_raw_stats_T['gamma'] = no_bike_raw_stats_T['edges']/(3*(no_bike_raw_stats_T['node']-2))\n",
    "\n",
    "no_bike_raw_stats_T.describe()"
   ]
  },
  {
   "attachments": {},
   "cell_type": "markdown",
   "metadata": {},
   "source": [
    "# Low Income Tracts\n",
    "\n",
    "Now we do the same for low income tracts that are 25th percentile density <br>\n",
    "\n",
    "Depending on rigor you can choose the amount to sample<br>\n"
   ]
  },
  {
   "cell_type": "code",
   "execution_count": 8,
   "metadata": {},
   "outputs": [
    {
     "name": "stderr",
     "output_type": "stream",
     "text": [
      "<ipython-input-8-b94b671e982f>:2: FutureWarning: The default value of regex will change from True to False in a future version.\n",
      "  data['tract_name'] = data.tract_name.str.replace(r'(,\\s[C].*)', r'')\n",
      "<ipython-input-8-b94b671e982f>:6: FutureWarning: The default value of regex will change from True to False in a future version.\n",
      "  data_sample['tract_name'] = data_sample.tract_name.str.replace(r'(,\\s[C].*)', r'')\n"
     ]
    }
   ],
   "source": [
    "data = pd.read_csv('ca_data_dense_centroids.csv')\n",
    "data['tract_name'] = data.tract_name.str.replace(r'(,\\s[C].*)', r'')\n",
    "\n",
    "# data_sample\n",
    "data_sample = data.sample(10, random_state=42)\n",
    "data_sample['tract_name'] = data_sample.tract_name.str.replace(r'(,\\s[C].*)', r'')\n",
    "\n",
    "# data_sample_dict\n",
    "data_sample_dict = data_sample.to_dict(orient = 'records')\n"
   ]
  },
  {
   "attachments": {},
   "cell_type": "markdown",
   "metadata": {},
   "source": [
    "## Data Analysis of bike and cycleway networks\n",
    "\n",
    "- The code below will only select bike networks with more than 100 nodes\n",
    "- Two dataframes are saved, bike stats refer to"
   ]
  },
  {
   "cell_type": "code",
   "execution_count": 9,
   "metadata": {},
   "outputs": [
    {
     "name": "stderr",
     "output_type": "stream",
     "text": [
      "c:\\Users\\psle1\\anaconda3\\lib\\site-packages\\osmnx\\utils.py:192: UserWarning: The `utils.config` function is deprecated and will be removed in a future release. Instead, use the `settings` module directly to configure a global setting's value. For example, `ox.settings.log_console=True`.\n",
      "  warnings.warn(\n",
      "c:\\Users\\psle1\\anaconda3\\lib\\site-packages\\osmnx\\utils.py:192: UserWarning: The `utils.config` function is deprecated and will be removed in a future release. Instead, use the `settings` module directly to configure a global setting's value. For example, `ox.settings.log_console=True`.\n",
      "  warnings.warn(\n",
      "c:\\Users\\psle1\\anaconda3\\lib\\site-packages\\osmnx\\utils.py:192: UserWarning: The `utils.config` function is deprecated and will be removed in a future release. Instead, use the `settings` module directly to configure a global setting's value. For example, `ox.settings.log_console=True`.\n",
      "  warnings.warn(\n",
      "c:\\Users\\psle1\\anaconda3\\lib\\site-packages\\osmnx\\utils.py:192: UserWarning: The `utils.config` function is deprecated and will be removed in a future release. Instead, use the `settings` module directly to configure a global setting's value. For example, `ox.settings.log_console=True`.\n",
      "  warnings.warn(\n",
      "c:\\Users\\psle1\\anaconda3\\lib\\site-packages\\osmnx\\utils.py:192: UserWarning: The `utils.config` function is deprecated and will be removed in a future release. Instead, use the `settings` module directly to configure a global setting's value. For example, `ox.settings.log_console=True`.\n",
      "  warnings.warn(\n",
      "c:\\Users\\psle1\\anaconda3\\lib\\site-packages\\osmnx\\utils.py:192: UserWarning: The `utils.config` function is deprecated and will be removed in a future release. Instead, use the `settings` module directly to configure a global setting's value. For example, `ox.settings.log_console=True`.\n",
      "  warnings.warn(\n",
      "c:\\Users\\psle1\\anaconda3\\lib\\site-packages\\osmnx\\utils.py:192: UserWarning: The `utils.config` function is deprecated and will be removed in a future release. Instead, use the `settings` module directly to configure a global setting's value. For example, `ox.settings.log_console=True`.\n",
      "  warnings.warn(\n",
      "c:\\Users\\psle1\\anaconda3\\lib\\site-packages\\osmnx\\utils.py:192: UserWarning: The `utils.config` function is deprecated and will be removed in a future release. Instead, use the `settings` module directly to configure a global setting's value. For example, `ox.settings.log_console=True`.\n",
      "  warnings.warn(\n",
      "c:\\Users\\psle1\\anaconda3\\lib\\site-packages\\osmnx\\utils.py:192: UserWarning: The `utils.config` function is deprecated and will be removed in a future release. Instead, use the `settings` module directly to configure a global setting's value. For example, `ox.settings.log_console=True`.\n",
      "  warnings.warn(\n"
     ]
    },
    {
     "name": "stdout",
     "output_type": "stream",
     "text": [
      "there was an error\n"
     ]
    },
    {
     "name": "stderr",
     "output_type": "stream",
     "text": [
      "c:\\Users\\psle1\\anaconda3\\lib\\site-packages\\osmnx\\utils.py:192: UserWarning: The `utils.config` function is deprecated and will be removed in a future release. Instead, use the `settings` module directly to configure a global setting's value. For example, `ox.settings.log_console=True`.\n",
      "  warnings.warn(\n"
     ]
    },
    {
     "data": {
      "text/html": [
       "<div>\n",
       "<style scoped>\n",
       "    .dataframe tbody tr th:only-of-type {\n",
       "        vertical-align: middle;\n",
       "    }\n",
       "\n",
       "    .dataframe tbody tr th {\n",
       "        vertical-align: top;\n",
       "    }\n",
       "\n",
       "    .dataframe thead th {\n",
       "        text-align: right;\n",
       "    }\n",
       "</style>\n",
       "<table border=\"1\" class=\"dataframe\">\n",
       "  <thead>\n",
       "    <tr style=\"text-align: right;\">\n",
       "      <th></th>\n",
       "      <th>Census Tract 4623.01, Los Angeles County</th>\n",
       "      <th>Census Tract 231.02, San Francisco County</th>\n",
       "    </tr>\n",
       "  </thead>\n",
       "  <tbody>\n",
       "    <tr>\n",
       "      <th>n</th>\n",
       "      <td>129.000000</td>\n",
       "      <td>108.000000</td>\n",
       "    </tr>\n",
       "    <tr>\n",
       "      <th>m</th>\n",
       "      <td>264.000000</td>\n",
       "      <td>127.000000</td>\n",
       "    </tr>\n",
       "    <tr>\n",
       "      <th>k_avg</th>\n",
       "      <td>4.093000</td>\n",
       "      <td>2.352000</td>\n",
       "    </tr>\n",
       "    <tr>\n",
       "      <th>edge_length_total</th>\n",
       "      <td>44776.313000</td>\n",
       "      <td>33626.644000</td>\n",
       "    </tr>\n",
       "    <tr>\n",
       "      <th>edge_length_avg</th>\n",
       "      <td>169.607000</td>\n",
       "      <td>264.777000</td>\n",
       "    </tr>\n",
       "    <tr>\n",
       "      <th>streets_per_node_avg</th>\n",
       "      <td>2.899000</td>\n",
       "      <td>3.037000</td>\n",
       "    </tr>\n",
       "    <tr>\n",
       "      <th>intersection_count</th>\n",
       "      <td>112.000000</td>\n",
       "      <td>104.000000</td>\n",
       "    </tr>\n",
       "    <tr>\n",
       "      <th>street_length_total</th>\n",
       "      <td>26493.982000</td>\n",
       "      <td>18822.183000</td>\n",
       "    </tr>\n",
       "    <tr>\n",
       "      <th>street_segment_count</th>\n",
       "      <td>135.000000</td>\n",
       "      <td>75.000000</td>\n",
       "    </tr>\n",
       "    <tr>\n",
       "      <th>street_length_avg</th>\n",
       "      <td>196.252000</td>\n",
       "      <td>250.962000</td>\n",
       "    </tr>\n",
       "    <tr>\n",
       "      <th>circuity_avg</th>\n",
       "      <td>1.017000</td>\n",
       "      <td>1.025000</td>\n",
       "    </tr>\n",
       "    <tr>\n",
       "      <th>median_income</th>\n",
       "      <td>57898.000000</td>\n",
       "      <td>37981.000000</td>\n",
       "    </tr>\n",
       "    <tr>\n",
       "      <th>agg_travel_time_min</th>\n",
       "      <td>75885.000000</td>\n",
       "      <td>63755.000000</td>\n",
       "    </tr>\n",
       "    <tr>\n",
       "      <th>pct_workers_who_commute</th>\n",
       "      <td>0.502184</td>\n",
       "      <td>0.398109</td>\n",
       "    </tr>\n",
       "    <tr>\n",
       "      <th>POI</th>\n",
       "      <td>416.000000</td>\n",
       "      <td>239.000000</td>\n",
       "    </tr>\n",
       "  </tbody>\n",
       "</table>\n",
       "</div>"
      ],
      "text/plain": [
       "                         Census Tract 4623.01, Los Angeles County  \\\n",
       "n                                                      129.000000   \n",
       "m                                                      264.000000   \n",
       "k_avg                                                    4.093000   \n",
       "edge_length_total                                    44776.313000   \n",
       "edge_length_avg                                        169.607000   \n",
       "streets_per_node_avg                                     2.899000   \n",
       "intersection_count                                     112.000000   \n",
       "street_length_total                                  26493.982000   \n",
       "street_segment_count                                   135.000000   \n",
       "street_length_avg                                      196.252000   \n",
       "circuity_avg                                             1.017000   \n",
       "median_income                                        57898.000000   \n",
       "agg_travel_time_min                                  75885.000000   \n",
       "pct_workers_who_commute                                  0.502184   \n",
       "POI                                                    416.000000   \n",
       "\n",
       "                         Census Tract 231.02, San Francisco County  \n",
       "n                                                       108.000000  \n",
       "m                                                       127.000000  \n",
       "k_avg                                                     2.352000  \n",
       "edge_length_total                                     33626.644000  \n",
       "edge_length_avg                                         264.777000  \n",
       "streets_per_node_avg                                      3.037000  \n",
       "intersection_count                                      104.000000  \n",
       "street_length_total                                   18822.183000  \n",
       "street_segment_count                                     75.000000  \n",
       "street_length_avg                                       250.962000  \n",
       "circuity_avg                                              1.025000  \n",
       "median_income                                         37981.000000  \n",
       "agg_travel_time_min                                   63755.000000  \n",
       "pct_workers_who_commute                                   0.398109  \n",
       "POI                                                     239.000000  "
      ]
     },
     "execution_count": 9,
     "metadata": {},
     "output_type": "execute_result"
    }
   ],
   "source": [
    "data_stats_df = pd.DataFrame()\n",
    "bike_stats_df = pd.DataFrame()\n",
    "num_amens = []\n",
    "income = []\n",
    "travel_time = []\n",
    "commute_pct = []\n",
    "no_nodes = []\n",
    "for entry in data_sample_dict:\n",
    "\n",
    "    #extract coords\n",
    "    lat = entry['latitudes']\n",
    "    lon = entry['longitudes']\n",
    "    name = entry['tract_name']\n",
    "\n",
    "    coords = (lat,lon)\n",
    "    useful_tags = ox.settings.useful_tags_way + ['cycleway']\n",
    "    ox.config(use_cache=True, log_console=True, useful_tags_way=useful_tags)\n",
    "\n",
    "    # generate graph\n",
    "    G = ox.graph_from_point(coords, dist=2000, network_type='bike', simplify=False)\n",
    "    nodes, edges = ox.graph_to_gdfs(G)\n",
    "\n",
    "    # generate graph stats\n",
    "    stats = ox.utils_graph.graph_from_gdfs(nodes, edges)\n",
    "    stats = ox.basic_stats(stats)\n",
    "\n",
    "    # delete the no longer needed dict elements\n",
    "    del stats[\"streets_per_node_counts\"]\n",
    "    del stats[\"streets_per_node_proportions\"]\n",
    "    del stats[\"self_loop_proportion\"]\n",
    "\n",
    "    df_og = pd.DataFrame(pd.Series(stats, name=\"value\")).round(3)\n",
    "\n",
    "    non_cycleways = [(u, v, k) for u, v, k, d in G.edges(keys=True, data=True) if not ('cycleway' in d or d['highway']=='cycleway')]\n",
    "    G.remove_edges_from(non_cycleways)\n",
    "    G = ox.utils_graph.remove_isolated_nodes(G)\n",
    "    G = ox.simplify_graph(G)\n",
    "    try:\n",
    "        nodes, edges = ox.graph_to_gdfs(G)\n",
    "    except Exception:\n",
    "        no_nodes.append(name)\n",
    "        print('there was an error')\n",
    "        continue\n",
    "\n",
    "    # generate stats for the cycleway network\n",
    "    stats = ox.utils_graph.graph_from_gdfs(nodes, edges)\n",
    "    stats = ox.basic_stats(stats)\n",
    "\n",
    "    # If there are less than 100 nodes in the bike network ignore them\n",
    "    if stats['n'] < 100:\n",
    "        continue\n",
    "    else:\n",
    "        pass\n",
    "#     fig, ax = ox.plot_graph(G)\n",
    "\n",
    "    # get POI\n",
    "    tags = {'building': desired_types, 'amenity': desired_amenities}\n",
    "    #tags = {'amenity': 'restaurant'}\n",
    "    G = ox.geometries_from_point(coords, tags, dist=2000)\n",
    "\n",
    "    num_amens.append(G[G['amenity'].notnull()].shape[0])\n",
    "    # print(f'The number of amenities for city {city} is {num_amens}')\n",
    "\n",
    "    del stats[\"streets_per_node_counts\"]\n",
    "    del stats[\"streets_per_node_proportions\"]\n",
    "    del stats[\"self_loop_proportion\"]\n",
    "\n",
    "    # load as a pandas dataframe\n",
    "    df_bike = pd.DataFrame(pd.Series(stats, name=\"value\")).round(3)\n",
    "    bike_stats_df[name] = df_bike.value.transpose()\n",
    "    data_stats_df[name] = df_bike.value.transpose()/df_og.value.transpose()\n",
    "    \n",
    "    # adding values to stats\n",
    "    income.append(int(entry['median_income']))\n",
    "    travel_time.append(int(entry['agg_travel_time_min']))\n",
    "    commute_pct.append(entry['workers_who_commute']/entry['total_pop'])\n",
    "    # get POI\n",
    "\n",
    "    # load as a pandas dataframe\n",
    "    # df = pd.DataFrame(pd.Series(stats, name=\"value\")).round(3)\n",
    "    # data_stats_df[name] = df['value']\n",
    "    \n",
    "bike_stats_df.loc['median_income'] = income\n",
    "bike_stats_df.loc['agg_travel_time_min'] = travel_time\n",
    "bike_stats_df.loc['pct_workers_who_commute'] = commute_pct\n",
    "bike_stats_df.loc['POI'] = num_amens\n",
    "\n",
    "\n",
    "data_stats_df.loc['median_income'] = income\n",
    "data_stats_df.loc['agg_travel_time_min'] = travel_time\n",
    "data_stats_df.loc['pct_workers_who_commute'] = commute_pct\n",
    "data_stats_df.loc['POI'] = num_amens\n",
    "\n",
    "\n",
    "bike_stats_df\n",
    "# data_stats_df = data_stats_df.transpose()\n"
   ]
  },
  {
   "cell_type": "code",
   "execution_count": 10,
   "metadata": {},
   "outputs": [
    {
     "name": "stderr",
     "output_type": "stream",
     "text": [
      "c:\\Users\\psle1\\anaconda3\\lib\\site-packages\\ipykernel\\ipkernel.py:287: DeprecationWarning: `should_run_async` will not call `transform_cell` automatically in the future. Please pass the result to `transformed_cell` argument and any exception that happen during thetransform in `preprocessing_exc_tuple` in IPython 7.17 and above.\n",
      "  and should_run_async(code)\n"
     ]
    },
    {
     "data": {
      "text/html": [
       "<div>\n",
       "<style scoped>\n",
       "    .dataframe tbody tr th:only-of-type {\n",
       "        vertical-align: middle;\n",
       "    }\n",
       "\n",
       "    .dataframe tbody tr th {\n",
       "        vertical-align: top;\n",
       "    }\n",
       "\n",
       "    .dataframe thead th {\n",
       "        text-align: right;\n",
       "    }\n",
       "</style>\n",
       "<table border=\"1\" class=\"dataframe\">\n",
       "  <thead>\n",
       "    <tr style=\"text-align: right;\">\n",
       "      <th></th>\n",
       "      <th>node</th>\n",
       "      <th>edges</th>\n",
       "      <th>k_avg</th>\n",
       "      <th>edge_length_total</th>\n",
       "      <th>edge_length_avg</th>\n",
       "      <th>streets_per_node_avg</th>\n",
       "      <th>intersection_count</th>\n",
       "      <th>street_length_total</th>\n",
       "      <th>street_segment_count</th>\n",
       "      <th>street_length_avg</th>\n",
       "      <th>circuity_avg</th>\n",
       "      <th>median_income</th>\n",
       "      <th>agg_travel_time_min</th>\n",
       "      <th>pct_workers_who_commute</th>\n",
       "      <th>POI</th>\n",
       "      <th>beta</th>\n",
       "      <th>gamma</th>\n",
       "    </tr>\n",
       "  </thead>\n",
       "  <tbody>\n",
       "    <tr>\n",
       "      <th>Census Tract 4623.01, Los Angeles County</th>\n",
       "      <td>129.0</td>\n",
       "      <td>264.0</td>\n",
       "      <td>4.093</td>\n",
       "      <td>44776.313</td>\n",
       "      <td>169.607</td>\n",
       "      <td>2.899</td>\n",
       "      <td>112.0</td>\n",
       "      <td>26493.982</td>\n",
       "      <td>135.0</td>\n",
       "      <td>196.252</td>\n",
       "      <td>1.017</td>\n",
       "      <td>57898.0</td>\n",
       "      <td>75885.0</td>\n",
       "      <td>0.502184</td>\n",
       "      <td>416.0</td>\n",
       "      <td>2.046512</td>\n",
       "      <td>0.692913</td>\n",
       "    </tr>\n",
       "    <tr>\n",
       "      <th>Census Tract 231.02, San Francisco County</th>\n",
       "      <td>108.0</td>\n",
       "      <td>127.0</td>\n",
       "      <td>2.352</td>\n",
       "      <td>33626.644</td>\n",
       "      <td>264.777</td>\n",
       "      <td>3.037</td>\n",
       "      <td>104.0</td>\n",
       "      <td>18822.183</td>\n",
       "      <td>75.0</td>\n",
       "      <td>250.962</td>\n",
       "      <td>1.025</td>\n",
       "      <td>37981.0</td>\n",
       "      <td>63755.0</td>\n",
       "      <td>0.398109</td>\n",
       "      <td>239.0</td>\n",
       "      <td>1.175926</td>\n",
       "      <td>0.399371</td>\n",
       "    </tr>\n",
       "  </tbody>\n",
       "</table>\n",
       "</div>"
      ],
      "text/plain": [
       "                                            node  edges  k_avg  \\\n",
       "Census Tract 4623.01, Los Angeles County   129.0  264.0  4.093   \n",
       "Census Tract 231.02, San Francisco County  108.0  127.0  2.352   \n",
       "\n",
       "                                           edge_length_total  edge_length_avg  \\\n",
       "Census Tract 4623.01, Los Angeles County           44776.313          169.607   \n",
       "Census Tract 231.02, San Francisco County          33626.644          264.777   \n",
       "\n",
       "                                           streets_per_node_avg  \\\n",
       "Census Tract 4623.01, Los Angeles County                  2.899   \n",
       "Census Tract 231.02, San Francisco County                 3.037   \n",
       "\n",
       "                                           intersection_count  \\\n",
       "Census Tract 4623.01, Los Angeles County                112.0   \n",
       "Census Tract 231.02, San Francisco County               104.0   \n",
       "\n",
       "                                           street_length_total  \\\n",
       "Census Tract 4623.01, Los Angeles County             26493.982   \n",
       "Census Tract 231.02, San Francisco County            18822.183   \n",
       "\n",
       "                                           street_segment_count  \\\n",
       "Census Tract 4623.01, Los Angeles County                  135.0   \n",
       "Census Tract 231.02, San Francisco County                  75.0   \n",
       "\n",
       "                                           street_length_avg  circuity_avg  \\\n",
       "Census Tract 4623.01, Los Angeles County             196.252         1.017   \n",
       "Census Tract 231.02, San Francisco County            250.962         1.025   \n",
       "\n",
       "                                           median_income  agg_travel_time_min  \\\n",
       "Census Tract 4623.01, Los Angeles County         57898.0              75885.0   \n",
       "Census Tract 231.02, San Francisco County        37981.0              63755.0   \n",
       "\n",
       "                                           pct_workers_who_commute    POI  \\\n",
       "Census Tract 4623.01, Los Angeles County                  0.502184  416.0   \n",
       "Census Tract 231.02, San Francisco County                 0.398109  239.0   \n",
       "\n",
       "                                               beta     gamma  \n",
       "Census Tract 4623.01, Los Angeles County   2.046512  0.692913  \n",
       "Census Tract 231.02, San Francisco County  1.175926  0.399371  "
      ]
     },
     "execution_count": 10,
     "metadata": {},
     "output_type": "execute_result"
    }
   ],
   "source": [
    "# Do similar data cleaning and addition of stats as before\n",
    "bike_stats_df = bike_stats_df.transpose().rename(columns = {\"n\":\"node\",\"m\":\"edges\"})\n",
    "bike_stats_df['beta'] = bike_stats_df['edges']/bike_stats_df['node']\n",
    "bike_stats_df['gamma'] = bike_stats_df['edges']/(3*(bike_stats_df['node']-2))\n",
    "\n",
    "# sort by number of nodes\n",
    "bike_stats_df.sort_values(by = ['node'], ascending=False).head(6)\n",
    "\n",
    "# save file!\n",
    "path = r'C:\\Users\\psle1\\263 project github\\CE-263-Final-Project\\notebooks\\data_stats_df.csv'\n",
    "\n",
    "data_stats_df.to_csv(path)"
   ]
  },
  {
   "cell_type": "code",
   "execution_count": null,
   "metadata": {},
   "outputs": [],
   "source": []
  },
  {
   "attachments": {},
   "cell_type": "markdown",
   "metadata": {},
   "source": [
    "## Calculating betweeness\n",
    "\n",
    "The coordinates below refer to the ones shown in the report and presentation. However they are arbitrary and can be replaced with other census tracts if desired."
   ]
  },
  {
   "cell_type": "code",
   "execution_count": 20,
   "metadata": {},
   "outputs": [
    {
     "name": "stderr",
     "output_type": "stream",
     "text": [
      "c:\\Users\\psle1\\anaconda3\\lib\\site-packages\\ipykernel\\ipkernel.py:287: DeprecationWarning: `should_run_async` will not call `transform_cell` automatically in the future. Please pass the result to `transformed_cell` argument and any exception that happen during thetransform in `preprocessing_exc_tuple` in IPython 7.17 and above.\n",
      "  and should_run_async(code)\n",
      "c:\\Users\\psle1\\anaconda3\\lib\\site-packages\\osmnx\\utils.py:192: UserWarning: The `utils.config` function is deprecated and will be removed in a future release. Instead, use the `settings` module directly to configure a global setting's value. For example, `ox.settings.log_console=True`.\n",
      "  warnings.warn(\n"
     ]
    }
   ],
   "source": [
    "# coords = (37.734490\t, -122.384490) #Census Tract 231.02, San Francisco County\n",
    "coords = (36.904385\t,-121.770475) #Census Tract 1104, Santa Cruz County\n",
    "# coords = (33.774870,\t-118.277445\t) #Census Tract 2949, Los Angeles County\n",
    "# coords = (34.087325,\t-117.724343\t) #Census Tract 4020.01, Los Angeles County\n",
    "# coords = (34.056483,\t-118.442628\t) #Census Tract 2655.10, Los Angeles County\n",
    "# coords = (34.154963,\t-118.127003\t) #Census Tract 4623.01, Los Angeles County\n",
    "\n",
    "\n",
    "useful_tags = ox.settings.useful_tags_way + ['cycleway']\n",
    "ox.config(use_cache=True, log_console=True, useful_tags_way=useful_tags)        \n",
    "\n",
    "# generate graph\n",
    "G = ox.graph_from_point(coords, dist=2000, network_type='bike', simplify=False)\n",
    "nodes, edges = ox.graph_to_gdfs(G)\n",
    "\n",
    "# generate graph stats\n",
    "stats = ox.utils_graph.graph_from_gdfs(nodes, edges)\n",
    "stats = ox.basic_stats(stats)\n",
    "\n",
    "# delete the no longer needed dict elements\n",
    "del stats[\"streets_per_node_counts\"]\n",
    "del stats[\"streets_per_node_proportions\"]\n",
    "del stats[\"self_loop_proportion\"]\n",
    "\n",
    "df_og = pd.DataFrame(pd.Series(stats, name=\"value\")).round(3)\n",
    "\n",
    "non_cycleways = [(u, v, k) for u, v, k, d in G.edges(keys=True, data=True) if not ('cycleway' in d or d['highway']=='cycleway')]\n",
    "G.remove_edges_from(non_cycleways)\n",
    "G = ox.utils_graph.remove_isolated_nodes(G)\n",
    "G = ox.simplify_graph(G)"
   ]
  },
  {
   "cell_type": "code",
   "execution_count": 21,
   "metadata": {},
   "outputs": [
    {
     "name": "stderr",
     "output_type": "stream",
     "text": [
      "c:\\Users\\psle1\\anaconda3\\lib\\site-packages\\ipykernel\\ipkernel.py:287: DeprecationWarning: `should_run_async` will not call `transform_cell` automatically in the future. Please pass the result to `transformed_cell` argument and any exception that happen during thetransform in `preprocessing_exc_tuple` in IPython 7.17 and above.\n",
      "  and should_run_async(code)\n"
     ]
    },
    {
     "data": {
      "text/plain": [
       "(1500291777, 0.3319308087891538)"
      ]
     },
     "execution_count": 21,
     "metadata": {},
     "output_type": "execute_result"
    }
   ],
   "source": [
    "# calculate betweenness with a digraph of G (ie, no parallel edges)\n",
    "bc = nx.betweenness_centrality(ox.get_digraph(G), weight=\"length\")\n",
    "max_node, max_bc = max(bc.items(), key=lambda x: x[1])\n",
    "max_node, max_bc"
   ]
  },
  {
   "cell_type": "code",
   "execution_count": 22,
   "metadata": {},
   "outputs": [
    {
     "data": {
      "image/png": "[encoded data removed]",
      "text/plain": [
       "<Figure size 576x576 with 1 Axes>"
      ]
     },
     "metadata": {},
     "output_type": "display_data"
    }
   ],
   "source": [
    "nc = [\"r\" if node == max_node else \"w\" for node in G.nodes]\n",
    "ns = [80 if node == max_node else 15 for node in G.nodes]\n",
    "fig, ax = ox.plot_graph(G, node_size=ns, node_color=nc, node_zorder=2)"
   ]
  },
  {
   "cell_type": "code",
   "execution_count": 23,
   "metadata": {},
   "outputs": [
    {
     "name": "stderr",
     "output_type": "stream",
     "text": [
      "c:\\Users\\psle1\\anaconda3\\lib\\site-packages\\ipykernel\\ipkernel.py:287: DeprecationWarning: `should_run_async` will not call `transform_cell` automatically in the future. Please pass the result to `transformed_cell` argument and any exception that happen during thetransform in `preprocessing_exc_tuple` in IPython 7.17 and above.\n",
      "  and should_run_async(code)\n",
      "c:\\Users\\psle1\\anaconda3\\lib\\site-packages\\osmnx\\plot.py:680: PendingDeprecationWarning: The get_cmap function will be deprecated in a future version. Use ``matplotlib.colormaps[name]`` or ``matplotlib.colormaps.get_cmap(obj)`` instead.\n",
      "  scalar_mapper = cm.ScalarMappable(normalizer, cm.get_cmap(cmap))\n"
     ]
    },
    {
     "data": {
      "image/png": "[encoded data removed]",
      "text/plain": [
       "<Figure size 576x576 with 1 Axes>"
      ]
     },
     "metadata": {},
     "output_type": "display_data"
    }
   ],
   "source": [
    "\n",
    "# add the betweenness centraliy values as new node attributes, then plot\n",
    "nx.set_node_attributes(G, bc, \"bc\")\n",
    "nc = ox.plot.get_node_colors_by_attr(G, \"bc\", cmap=\"plasma\")\n",
    "fig, ax = ox.plot_graph(\n",
    "    G,\n",
    "    node_color=nc,\n",
    "    node_size=30,\n",
    "    node_zorder=2,\n",
    "    edge_linewidth=0.2,\n",
    "    edge_color=\"w\",\n",
    ")\n"
   ]
  }
 ],
 "metadata": {
  "kernelspec": {
   "display_name": "Python 3.8.5 ('base')",
   "language": "python",
   "name": "python3"
  },
  "language_info": {
   "codemirror_mode": {
    "name": "ipython",
    "version": 3
   },
   "file_extension": ".py",
   "mimetype": "text/x-python",
   "name": "python",
   "nbconvert_exporter": "python",
   "pygments_lexer": "ipython3",
   "version": "3.8.5"
  },
  "vscode": {
   "interpreter": {
    "hash": "82785fc778db4c3c37deac9e10a67b541368ab2522a96f5ca5de5679a9dac3a9"
   }
  }
 },
 "nbformat": 4,
 "nbformat_minor": 4
}
